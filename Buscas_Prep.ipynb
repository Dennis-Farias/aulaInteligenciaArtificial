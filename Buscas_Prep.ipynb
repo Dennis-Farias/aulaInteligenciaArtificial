{
  "cells": [
    {
      "cell_type": "markdown",
      "metadata": {
        "id": "view-in-github",
        "colab_type": "text"
      },
      "source": [
        "<a href=\"https://colab.research.google.com/github/Dennis-Farias/aulaInteligenciaArtificial/blob/main/Buscas_Prep.ipynb\" target=\"_parent\"><img src=\"https://colab.research.google.com/assets/colab-badge.svg\" alt=\"Open In Colab\"/></a>"
      ]
    },
    {
      "cell_type": "markdown",
      "metadata": {
        "id": "4pdZC6KTdpNh"
      },
      "source": [
        "<h1>Busca com subida da encosta(Hill Clibing)</h1>\n",
        "<h2>Problema das N Rainhas</h2>\n",
        "<p><b>Em um tabuleiro NxN deve ter N rainhas que não se atacam</b></p>\n",
        "<p> F = Número de rainhas que não se atacam <br>\n",
        "    Mínimo = 0 (Meta)<br>\n",
        "    Máximo = Combinação de N 2 a 2 - COMB(N,2)<br>\n",
        "    Para N = 8 <br>\n",
        "    MAX = 8! / ((8-2)!*2!)-8*7/2 = 28 pares de rainhas que não se atacam\n",
        "</p>"
      ]
    },
    {
      "cell_type": "code",
      "execution_count": 16,
      "metadata": {
        "id": "DlGOdrwldpNj"
      },
      "outputs": [],
      "source": [
        "# Configuração inicial\n",
        "import logging as log\n",
        "import sys\n",
        "\n",
        "\n",
        "log.basicConfig(format='%(levalname)s : %(message)s', stream=sys.stdout)\n",
        "root = log.getLogger()\n",
        "root.setLevel(log.DEBUG)\n",
        "\n",
        "logi = log.info\n",
        "loge= log.error\n",
        "logw = log.warning\n",
        "logd = log.debug"
      ]
    },
    {
      "cell_type": "code",
      "execution_count": 17,
      "metadata": {
        "id": "opUX_icfdpNk"
      },
      "outputs": [],
      "source": [
        "# import das bibliotecas\n",
        "import matplotlib.pyplot as plt\n",
        "plt.rcParams['figure.figsize'] = (14,7)\n",
        "import math\n",
        "import random\n",
        "import copy\n",
        "import itertools as it\n",
        "TAMANHOTABULEIRODEFAULT = 8\n",
        "DIRECAO =['norte','nordeste','leste','sudeste','sul', 'sudoeste','oeste','noroeste'] # Movimentos que podem ser feitos pela rainha"
      ]
    },
    {
      "cell_type": "code",
      "execution_count": 18,
      "metadata": {
        "id": "TlomGcdCdpNl"
      },
      "outputs": [],
      "source": [
        "# Gerar tabuleiro com matriz t por t de zeros com 1 (rainhas) na primeira coluna\n",
        "def geraTabuleiro(tamanho):\n",
        "    if tamanho<2: return[-1]\n",
        "    tab = []\n",
        "    for i in range(tamanho):\n",
        "        l=[]\n",
        "        for j in range(tamanho):\n",
        "            l.append(0)\n",
        "        tab.append(l)\n",
        "    for i in range(tamanho): tab[i][0]=1\n",
        "    return tab"
      ]
    },
    {
      "cell_type": "code",
      "source": [
        "# Gera tabuleiro posicionando as rainhas aleatoriamente\n",
        "def geraTabuleiroAleatorio(tamanho):\n",
        "    if tamanho<2: return[-1]\n",
        "    tab = []\n",
        "    for i in range(tamanho):\n",
        "        l=[]\n",
        "        for j in range(tamanho):\n",
        "            l.append(0)\n",
        "        tab.append(l)\n",
        "    for i in range(tamanho):\n",
        "      c = random.randint(0,tamanho-1)\n",
        "      tab[i][c]=1\n",
        "    return tab"
      ],
      "metadata": {
        "id": "CSeziwdBkJ7X"
      },
      "execution_count": 19,
      "outputs": []
    },
    {
      "cell_type": "code",
      "execution_count": 20,
      "metadata": {
        "id": "wi1AuNWhdpNl"
      },
      "outputs": [],
      "source": [
        "def printTabuleiro(tab):\n",
        "    for i in tab:print(i)"
      ]
    },
    {
      "cell_type": "code",
      "execution_count": null,
      "metadata": {
        "id": "L6WoKyugdpNl"
      },
      "outputs": [],
      "source": [
        "# Testar impressão do tabuleiro\n",
        "printTabuleiro(geraTabuleiroAleatorio(8))"
      ]
    },
    {
      "cell_type": "code",
      "execution_count": null,
      "metadata": {
        "id": "cSKDCKo3dpNl"
      },
      "outputs": [],
      "source": [
        "# Testar impressão do tabuleiro\n",
        "printTabuleiro(geraTabuleiro(8))"
      ]
    },
    {
      "cell_type": "code",
      "execution_count": null,
      "metadata": {
        "id": "6wfzLZjhdpNm"
      },
      "outputs": [],
      "source": [
        "# Testar impressão do tabuleiro\n",
        "printTabuleiro(geraTabuleiro(16))"
      ]
    },
    {
      "cell_type": "code",
      "execution_count": 24,
      "metadata": {
        "id": "uPxyzj7_dpNm"
      },
      "outputs": [],
      "source": [
        "# Localiza rainhas\n",
        "def locateQueens(estado):\n",
        "    q=[]\n",
        "    for i in range(len(estado)):\n",
        "        for j in range(len(estado)):\n",
        "            if estado[i][j] == 1: q.append((i,j))\n",
        "    return q"
      ]
    },
    {
      "cell_type": "code",
      "execution_count": null,
      "metadata": {
        "scrolled": true,
        "id": "8jrqbnyOdpNm"
      },
      "outputs": [],
      "source": [
        "# Teste\n",
        "print(locateQueens(geraTabuleiro(4)))"
      ]
    },
    {
      "cell_type": "code",
      "execution_count": 26,
      "metadata": {
        "id": "rQ12kn-0dpNm"
      },
      "outputs": [],
      "source": [
        "def calAtaques(estado):\n",
        "    at=0\n",
        "    atlinhas=0\n",
        "    # ataque em linhas\n",
        "    for i in estado:\n",
        "        if sum(i)>1:\n",
        "            atlinhas+=sum(i)-1\n",
        "    at+=atlinhas\n",
        "\n",
        "    # ataques em colunas\n",
        "    atcolunas = 0\n",
        "    for c in range(len(estado)):\n",
        "        n1 = 0\n",
        "        for l in range(len(estado)): n1 += estado[l][c]\n",
        "        if n1>1:\n",
        "            atcolunas += n1 - 1\n",
        "    at+=atcolunas\n",
        "    pr = locateQueens(estado)\n",
        "    d=0\n",
        "    # Ataques em diagonais\n",
        "    for p, coords in enumerate(pr):\n",
        "        i,j = coords\n",
        "        # diagonal esquerda\n",
        "        k,w = i+1,j-1\n",
        "        while(w>=0 and k<len(estado)):\n",
        "            if estado[k][w]==1:\n",
        "                d+=1\n",
        "                break\n",
        "            w-=1\n",
        "            k+=1\n",
        "        # diagonal direita\n",
        "        l,c = i+1, j+1\n",
        "        while(1 < len(estado) and c<len(estado)):\n",
        "            if estado[1][c]==1:\n",
        "                d+=1\n",
        "                break\n",
        "            l+=1\n",
        "            c+=1\n",
        "    at+=d\n",
        "    return at\n"
      ]
    },
    {
      "cell_type": "code",
      "execution_count": null,
      "metadata": {
        "scrolled": true,
        "id": "IRivWuFYdpNm"
      },
      "outputs": [],
      "source": [
        "# Teste da calculadora de ataques\n",
        "print(calAtaques(geraTabuleiroAleatorio(4)))"
      ]
    },
    {
      "cell_type": "code",
      "execution_count": 28,
      "metadata": {
        "id": "9Lv2w0zSdpNm"
      },
      "outputs": [],
      "source": [
        "def moveRainhaAleatoria(estado, passo):\n",
        "    tam=len(estado)\n",
        "    while True:\n",
        "        i,j = random.choice(locateQueens(estado))\n",
        "        k = (j+passo)%tam\n",
        "        if estado[i][k] == 0:\n",
        "            estado[i][k],estado[i][j] = estado[i][j],estado[i][k]\n",
        "            break\n",
        "    return estado"
      ]
    },
    {
      "cell_type": "code",
      "execution_count": null,
      "metadata": {
        "id": "TIyD_UO5dpNn"
      },
      "outputs": [],
      "source": [
        "# teste Move Rainha\n",
        "printTabuleiro(moveRainhaAleatoria(geraTabuleiro(4),2))"
      ]
    },
    {
      "cell_type": "code",
      "execution_count": 30,
      "metadata": {
        "id": "crqIgr61dpNn"
      },
      "outputs": [],
      "source": [
        "def evolucaoFuncaoObjetivo(estado, passo, MAX):\n",
        "#def evolucaoFuncaoObjetivo(estado, MAX):\n",
        "    n = len(estado[0])\n",
        "    ataques = []\n",
        "    i = 0\n",
        "    maxAtaques = math.factorial(n)/(2*math.factorial(n-2))\n",
        "    while i < MAX:\n",
        "        atq = calAtaques(estado)\n",
        "        ataques.append(maxAtaques - atq)\n",
        "        if atq == 0:\n",
        "          break\n",
        "        #passo = random.randint(1,n-1)\n",
        "        estado = moveRainhaAleatoria(copy.deepcopy(estado), passo)\n",
        "        i+=1\n",
        "    x=range(len(ataques))\n",
        "    plt.plot(x, ataques)\n",
        "    plt.xlabel(\"Vizinhos Gerados\")\n",
        "    plt.ylabel(\"Função Objetivo\")\n",
        "    plt.title(\"Variação da Função Objetivo\")\n",
        "    #plt.legend(loc=\"lower right\")\n",
        "    plt.show()"
      ]
    },
    {
      "cell_type": "code",
      "source": [
        "evolucaoFuncaoObjetivo(geraTabuleiro(8),1,1500)"
      ],
      "metadata": {
        "id": "Txy4OXyIzFBp"
      },
      "execution_count": null,
      "outputs": []
    },
    {
      "cell_type": "code",
      "source": [
        "# Busca Hill Climbing\n",
        "def buscaHC(estado, passo, Max):\n",
        "  c = 0\n",
        "  n = len(estado[0])\n",
        "  maxAtaques = math.factorial(n)/(2*math.factorial(n-2))\n",
        "  ataques = []\n",
        "  change = True\n",
        "  while c <= Max:\n",
        "    change=False\n",
        "    atq = calAtaques(estado)\n",
        "    ataques.append(maxAtaques - atq)\n",
        "    if atq == 0: # é uma solução\n",
        "      return \"Solução\", estado, atq, ataques\n",
        "    suc  = moveRainhaAleatoria(copy.deepcopy(estado), passo)\n",
        "    if calAtaques(suc) <= atq:\n",
        "      estado = suc\n",
        "      change = True\n",
        "    if not change: c += 1\n",
        "  return \"Falha\", estado, atq, ataques"
      ],
      "metadata": {
        "id": "RCA7FgjpM1AL"
      },
      "execution_count": 32,
      "outputs": []
    },
    {
      "cell_type": "code",
      "source": [
        "# Testando a busca hill climbing\n",
        "m,e,a,y = buscaHC(geraTabuleiro(6),1,1500)\n",
        "print(\"Função executada com\",m)\n",
        "print(\"ultimo estado analizado\")\n",
        "printTabuleiro(e)\n",
        "x = range(len(y))\n",
        "plt.plot(x,y)\n",
        "plt.xlabel(\"Vizinhos Gerados\")\n",
        "plt.ylabel(\"Função Objetivo\")\n",
        "plt.show()"
      ],
      "metadata": {
        "id": "riDwjyPbco6f"
      },
      "execution_count": null,
      "outputs": []
    },
    {
      "cell_type": "code",
      "source": [
        "# Hill Climbing estacastico (Reinicio Aleatório)\n",
        "for i in range(100):\n",
        "  t = geraTabuleiroAleatorio(8)\n",
        "  m,e,a,y = buscaHC(t,1,500)\n",
        "  if m == \"Solução\":\n",
        "    print(\"Solução Encontrada no reinicio\",i)\n",
        "    printTabuleiro(e)\n",
        "  else:\n",
        "    print(\"{}\".format(a), end=\",\")"
      ],
      "metadata": {
        "id": "BL3928T3j0T6"
      },
      "execution_count": null,
      "outputs": []
    },
    {
      "cell_type": "code",
      "source": [
        "# Tempera simulada\n",
        "def temperaSimulada(estado, passo, temp):\n",
        "  for tp in range(temp, 1, -1):\n",
        "    at = calAtaques(estado)\n",
        "    if at == 0:\n",
        "      return \"Solução\", estado, at\n",
        "    suc = moveRainhaAleatoria(copy.deepcopy(estado), passo)\n",
        "    deltaE = at = calAtaques(suc)\n",
        "    if deltaE >= 0:\n",
        "      estado = suc\n",
        "    else:\n",
        "      n = random.randint(0,100)\n",
        "      if n < math.exp(deltaE/tp): estado = suc\n",
        "  return \"Falha\", estado, at"
      ],
      "metadata": {
        "id": "aMn96pJxAMb-"
      },
      "execution_count": 35,
      "outputs": []
    },
    {
      "cell_type": "code",
      "source": [
        "m = \"Falha\"\n",
        "c = 0\n",
        "while m == \"Falha\":\n",
        "  t = geraTabuleiroAleatorio(8)\n",
        "  m, e, a = temperaSimulada(t, 1, 1000)\n",
        "  c += 1\n",
        "\n",
        "print(\"Rodadas:\", c)\n",
        "print(\"Função executada com\",m)\n",
        "print(\"Ataques:\", a)\n",
        "print(\"ultimo estado analizado\")\n",
        "printTabuleiro(e)"
      ],
      "metadata": {
        "id": "knobignGBTyF"
      },
      "execution_count": null,
      "outputs": []
    },
    {
      "cell_type": "markdown",
      "source": [
        "# Algoritmo Genético"
      ],
      "metadata": {
        "id": "JzQXG0YAtQyM"
      }
    },
    {
      "cell_type": "code",
      "source": [
        "def mutacao(estado, passo):\n",
        "    tam=len(estado)\n",
        "    while True:\n",
        "        i,j = random.choice(locateQueens(estado))\n",
        "        k = (j+passo)%tam\n",
        "        if estado[i][k] == 0:\n",
        "            estado[i][k],estado[i][j] = estado[i][j],estado[i][k]\n",
        "            break\n",
        "    return estado"
      ],
      "metadata": {
        "id": "uPMVcqAQtUEb"
      },
      "execution_count": 37,
      "outputs": []
    },
    {
      "cell_type": "code",
      "source": [
        "# Gerar população inicial (N indivíduos de tamanho tam)\n",
        "def geraPopulacaoInicial(N, tam):\n",
        "    populacao = []\n",
        "    for i in range(N):\n",
        "        populacao.append(geraTabuleiroAleatorio(tam))\n",
        "    return populacao"
      ],
      "metadata": {
        "id": "RQ0KrB5y3jbZ"
      },
      "execution_count": 38,
      "outputs": []
    },
    {
      "cell_type": "code",
      "source": [
        "# Função de cruzamento\n",
        "def crossover(genoma1, genoma2):\n",
        "  g1 = copy.deepcopy(genoma1)\n",
        "  g2 = copy.deepcopy(genoma2)\n",
        "  corte = random.randint(0,len(g1)-1)\n",
        "  return g1[:corte] + g2[corte:], g2[:corte] + g1[corte:] # dois filhos gerados"
      ],
      "metadata": {
        "id": "R7-LozjW5xQr"
      },
      "execution_count": 41,
      "outputs": []
    },
    {
      "cell_type": "code",
      "source": [
        "def fitness(populacao):\n",
        "  fits = []\n",
        "  tam = len(populacao[0])\n",
        "  maxAtaques = math.factorial(tam)/(2*math.factorial(tam-2))\n",
        "  for i in populacao:\n",
        "    fits.append(1- calAtaques(i)/maxAtaques)\n",
        "  return fits"
      ],
      "metadata": {
        "id": "CwVqh44x6z85"
      },
      "execution_count": 43,
      "outputs": []
    },
    {
      "cell_type": "code",
      "source": [
        "# Testar Função fitness\n",
        "pop = geraPopulacaoInicial(10,8)\n",
        "print(fitness(pop))"
      ],
      "metadata": {
        "colab": {
          "base_uri": "https://localhost:8080/"
        },
        "id": "xp_KCg8x7yIY",
        "outputId": "ef15464e-3a2a-407d-c895-2a43a6d099e2"
      },
      "execution_count": 44,
      "outputs": [
        {
          "output_type": "stream",
          "name": "stdout",
          "text": [
            "[0.7857142857142857, 0.75, 0.5357142857142857, 0.6785714285714286, 0.6428571428571428, 0.8214285714285714, 0.75, 0.9285714285714286, 0.7857142857142857, 0.6785714285714286]\n"
          ]
        }
      ]
    },
    {
      "cell_type": "code",
      "source": [
        "# Função da Roleta\n",
        "def roletaViciada(populacao, fitness):\n",
        "  # Levantamento da qualidade dos indivíduos\n",
        "  totalFitness = sum(fitness)\n",
        "\n",
        "  # calculando a fração de cada indivíduo na roleta\n",
        "  fracoes = [f/totalFitness for f in fitness]\n",
        "\n",
        "  # Criando os intervalos da roleta\n",
        "  intervalos = []\n",
        "  acum = 0\n",
        "  for i in fracoes:\n",
        "    acum += 1\n",
        "    intervalos.append(round(acum, 2))\n",
        "\n",
        "  # Girando a roleta\n",
        "  resultadoRoleta = random.randint(0, len(populacao))/len(populacao)\n",
        "\n",
        "  # Selecionando um individuo\n",
        "  ind = 0\n",
        "  while resultadoRoleta > intervalos[ind]:\n",
        "    ind += 1\n",
        "\n",
        "  # Retorna o indivíduo selecionado\n",
        "  return populacao[ind]"
      ],
      "metadata": {
        "id": "gDe12CfH8EZm"
      },
      "execution_count": 45,
      "outputs": []
    },
    {
      "cell_type": "code",
      "source": [
        "pop = geraPopulacaoInicial(10,8)\n",
        "fit = fitness(pop)\n",
        "printTabuleiro(roletaViciada(pop, fit))"
      ],
      "metadata": {
        "id": "-O7w7MvR_Alf"
      },
      "execution_count": null,
      "outputs": []
    },
    {
      "cell_type": "code",
      "source": [
        "# Função para seleção natural, usando a roleta para escolher os reprodutores\n",
        "def selecaoNatural(populacao, numCasais):\n",
        "  selecao = []\n",
        "  fts = fitness(populacao)\n",
        "  for i in range(2*numCasais):\n",
        "    selecao.append(roletaViciada(populacao, fts))\n",
        "  return selecao"
      ],
      "metadata": {
        "id": "g7XBHzDY_hEX"
      },
      "execution_count": 48,
      "outputs": []
    },
    {
      "cell_type": "code",
      "source": [
        "def testeMeta(pops):\n",
        "  fts = fitness(pops)\n",
        "  try:\n",
        "    posMeta = fts.index(1)\n",
        "    return \"Solução\", pops[posMeta]\n",
        "  except (ValueError):\n",
        "    return -1"
      ],
      "metadata": {
        "id": "Xtq2MS6b_9e3"
      },
      "execution_count": 49,
      "outputs": []
    },
    {
      "cell_type": "code",
      "source": [
        "# Função de algoritmo genético de fato\n",
        "def genetico(maxIteracoes, tamanhoPopulacao, tamGenoma, taxaReproducao, deslocamentoGene):\n",
        "\n",
        "  # Gerar população inicial\n",
        "  populacao = geraPopulacaoInicial(tamanhoPopulacao, tamGenoma)\n",
        "\n",
        "  # Iterações\n",
        "  for i in range(maxIteracoes):\n",
        "    # Primeiro teste de meta\n",
        "    res = testeMeta(populacao)\n",
        "    if res != -1: return res, i\n",
        "    # Etapa de evolucao por rerodução\n",
        "    novaPopulacao = []\n",
        "    reprodutores = selecaoNatural(populacao, taxaReproducao)\n",
        "    machos = reprodutores[:taxaReproducao]\n",
        "    femeas = reprodutores[taxaReproducao:]\n",
        "    for k, w in zip(machos, femeas):\n",
        "      f1, f2 = crossover(k, w)\n",
        "      novaPopulacao.append(f1)\n",
        "      novaPopulacao.append(f2)\n",
        "    # Teste de meta na nova população\n",
        "    res = testeMeta(novaPopulacao)\n",
        "    if res != -1: return res, i\n",
        "\n",
        "    # Aceitar mutações na população\n",
        "    for z in novaPopulacao:\n",
        "      if random.randint(0,100) < 10:\n",
        "        z=mutacao(z, deslocamentoGene)\n",
        "    populacao = novaPopulacao\n",
        "  return \"Falha\", populacao"
      ],
      "metadata": {
        "id": "15lRc1aNA4h9"
      },
      "execution_count": 50,
      "outputs": []
    },
    {
      "cell_type": "code",
      "source": [
        "# Teste de algoritmo genético\n",
        "maxIteracoes = 1000\n",
        "tamanhoPopulacaoInicial = 100\n",
        "tamGenoma = 4 # tabuleiro n x n\n",
        "casaisReprodutores = 40 # numero de casais a serem formados para reprodução\n",
        "deslocamentoGene = 1 # passo no tabuleiro -> regra de mutacao do genoma\n",
        "\n",
        "genetico(maxIteracoes, tamanhoPopulacaoInicial, tamGenoma, casaisReprodutores, deslocamentoGene)"
      ],
      "metadata": {
        "colab": {
          "base_uri": "https://localhost:8080/"
        },
        "id": "YvaEGFLfFOek",
        "outputId": "dbb431cf-d8da-4112-b66e-4cb928f5e5a5"
      },
      "execution_count": 52,
      "outputs": [
        {
          "output_type": "execute_result",
          "data": {
            "text/plain": [
              "(('Solução', [[0, 0, 1, 0], [1, 0, 0, 0], [0, 0, 0, 1], [0, 1, 0, 0]]), 822)"
            ]
          },
          "metadata": {},
          "execution_count": 52
        }
      ]
    }
  ],
  "metadata": {
    "kernelspec": {
      "display_name": "Python 3",
      "language": "python",
      "name": "python3"
    },
    "language_info": {
      "codemirror_mode": {
        "name": "ipython",
        "version": 3
      },
      "file_extension": ".py",
      "mimetype": "text/x-python",
      "name": "python",
      "nbconvert_exporter": "python",
      "pygments_lexer": "ipython3",
      "version": "3.8.3"
    },
    "colab": {
      "provenance": [],
      "include_colab_link": true
    }
  },
  "nbformat": 4,
  "nbformat_minor": 0
}